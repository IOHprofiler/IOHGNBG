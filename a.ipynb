{
 "cells": [
  {
   "cell_type": "code",
   "execution_count": null,
   "id": "136f846a",
   "metadata": {},
   "outputs": [
    {
     "name": "stdout",
     "output_type": "stream",
     "text": [
      "<MetaData: GNBG_GECCO_2025_f1 id: 1 iid: 0 dim: 30>\n"
     ]
    },
    {
     "ename": "NameError",
     "evalue": "name 'os' is not defined",
     "output_type": "error",
     "traceback": [
      "\u001b[0;31m---------------------------------------------------------------------------\u001b[0m",
      "\u001b[0;31mNameError\u001b[0m                                 Traceback (most recent call last)",
      "Cell \u001b[0;32mIn[5], line 9\u001b[0m\n\u001b[1;32m      4\u001b[0m gnbg_problem \u001b[38;5;241m=\u001b[39m iohgnbg\u001b[38;5;241m.\u001b[39mget_problem(\u001b[38;5;241m1\u001b[39m)\n\u001b[1;32m      6\u001b[0m \u001b[38;5;28mprint\u001b[39m(gnbg_problem\u001b[38;5;241m.\u001b[39mmeta_data)\n\u001b[1;32m      8\u001b[0m logger \u001b[38;5;241m=\u001b[39m ioh\u001b[38;5;241m.\u001b[39mlogger\u001b[38;5;241m.\u001b[39mAnalyzer(\n\u001b[0;32m----> 9\u001b[0m     root\u001b[38;5;241m=\u001b[39m\u001b[43mos\u001b[49m\u001b[38;5;241m.\u001b[39mgetcwd(),  \u001b[38;5;66;03m# Current working directory\u001b[39;00m\n\u001b[1;32m     10\u001b[0m     folder_name\u001b[38;5;241m=\u001b[39m\u001b[38;5;124m\"\u001b[39m\u001b[38;5;124mAttachedLogger\u001b[39m\u001b[38;5;124m\"\u001b[39m,  \u001b[38;5;66;03m# Folder to store logs\u001b[39;00m\n\u001b[1;32m     11\u001b[0m     algorithm_name\u001b[38;5;241m=\u001b[39m\u001b[38;5;124m\"\u001b[39m\u001b[38;5;124mNone\u001b[39m\u001b[38;5;124m\"\u001b[39m,  \u001b[38;5;66;03m# Name of the algorithm (can be customized)\u001b[39;00m\n\u001b[1;32m     12\u001b[0m )\n\u001b[1;32m     14\u001b[0m \u001b[38;5;66;03m# Attach the logger to the created clustering problem\u001b[39;00m\n\u001b[1;32m     15\u001b[0m gnbg_problem\u001b[38;5;241m.\u001b[39mattach_logger(logger)\n",
      "\u001b[0;31mNameError\u001b[0m: name 'os' is not defined"
     ]
    }
   ],
   "source": [
    "import iohgnbg\n",
    "import ioh\n",
    "import os\n",
    "gnbg_problem = iohgnbg.get_problem(1)\n",
    "\n",
    "print(gnbg_problem.meta_data)\n",
    "\n",
    "logger = ioh.logger.Analyzer(\n",
    "    root=os.getcwd(),  # Current working directory\n",
    "    folder_name=\"AttachedLogger\",  # Folder to store logs\n",
    "    algorithm_name=\"None\",  # Name of the algorithm (can be customized)\n",
    ")\n",
    "\n",
    "# Attach the logger to the created clustering problem\n",
    "gnbg_problem.attach_logger(logger)"
   ]
  }
 ],
 "metadata": {
  "kernelspec": {
   "display_name": "iohgnbg",
   "language": "python",
   "name": "python3"
  },
  "language_info": {
   "codemirror_mode": {
    "name": "ipython",
    "version": 3
   },
   "file_extension": ".py",
   "mimetype": "text/x-python",
   "name": "python",
   "nbconvert_exporter": "python",
   "pygments_lexer": "ipython3",
   "version": "3.10.16"
  }
 },
 "nbformat": 4,
 "nbformat_minor": 5
}
